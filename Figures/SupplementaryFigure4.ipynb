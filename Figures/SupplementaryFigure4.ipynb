{
 "cells": [
  {
   "cell_type": "markdown",
   "id": "c82490c2-8cf2-429e-bb7b-28c42b78bc56",
   "metadata": {},
   "source": [
    "# Supplementary Figure 4: Unable to fit demographic models to extreme synonymous selection`"
   ]
  },
  {
   "cell_type": "code",
   "execution_count": 3,
   "id": "40f1a32b-b410-4311-8ea4-df1a2e85cf74",
   "metadata": {},
   "outputs": [],
   "source": [
    "import pandas as pd\n",
    "import matplotlib.pyplot as plt\n",
    "import numpy as np\n",
    "import seaborn as sbn\n",
    "from matplotlib.lines import Line2D\n",
    "import re\n",
    "import ast"
   ]
  },
  {
   "cell_type": "markdown",
   "id": "4b466ab2-b425-48fd-b45b-ef602c49f1c4",
   "metadata": {},
   "source": [
    "# Demographic model comparison with data in 100% s=1e-3 case"
   ]
  },
  {
   "cell_type": "markdown",
   "id": "b94a6b70-8aa1-4b3f-ac63-b01486339b49",
   "metadata": {},
   "source": [
    "## Extract Data"
   ]
  },
  {
   "cell_type": "code",
   "execution_count": 28,
   "id": "b6bef640-9bf6-4acb-b805-e05ccd99ee46",
   "metadata": {},
   "outputs": [],
   "source": [
    "condition_sym_syn='E3' #PartialE5 0_Recom7, E5_Partial_R7, E5, 0_Recom6, E5_Recom6\n",
    "condition_sym_ns='E3' #PartialE4, PartialE5, 0_Recom7, E5_Partial_R7, E5, 0_Recom6, E5_Recom6\n",
    "condition_dadioutput='E3' #E4_Partial, E4Partial_ZeroSyn, E5_Partial_R7, Zero_Recom7, E5, E5_Partial, Zero_Recom7, E5_Recom6\n",
    "replicate='10'"
   ]
  },
  {
   "cell_type": "code",
   "execution_count": 29,
   "id": "09f168cb-13d7-4e61-8668-dc431ca6b318",
   "metadata": {},
   "outputs": [],
   "source": [
    "experimental_syn_sfs_file='/u/project/klohmuel/amzurita/Synonimous_Selection_Simulations/Dadi_Fits/Summed_SFS/Syn_SFS_DadiInput_'+condition_sym_syn+'_Replicate'+replicate+'.txt'\n",
    "experimental_nonsyn_sfs_file='/u/project/klohmuel/amzurita/Synonimous_Selection_Simulations/Dadi_Fits/Summed_SFS/NonSyn_SFS_DadiInput_'+condition_sym_ns+'_Replicate'+replicate+'.txt'"
   ]
  },
  {
   "cell_type": "code",
   "execution_count": 30,
   "id": "c9610746-2bf7-4338-b670-61b491f9e4e6",
   "metadata": {},
   "outputs": [
    {
     "name": "stdout",
     "output_type": "stream",
     "text": [
      "/u/project/klohmuel/amzurita/Synonimous_Selection_Simulations/Dadi_Fits/Summed_SFS/Syn_SFS_DadiInput_E3_Replicate10.txt\n",
      "/u/project/klohmuel/amzurita/Synonimous_Selection_Simulations/Dadi_Fits/Summed_SFS/NonSyn_SFS_DadiInput_E3_Replicate10.txt\n"
     ]
    }
   ],
   "source": [
    "print(experimental_syn_sfs_file)\n",
    "print(experimental_nonsyn_sfs_file)"
   ]
  },
  {
   "cell_type": "code",
   "execution_count": 31,
   "id": "91faf76f-648a-492d-8231-19c59a9f415c",
   "metadata": {},
   "outputs": [],
   "source": [
    "with open(experimental_syn_sfs_file, 'r') as file:\n",
    "    syn_sfs_extract=file.readlines()[1].strip()\n",
    "    to_parse='['+syn_sfs_extract.replace(' ',',')+']'\n",
    "    syn_sfs=ast.literal_eval(to_parse)[1:]\n",
    "    \n",
    "with open(experimental_nonsyn_sfs_file, 'r') as file:\n",
    "    nonsyn_sfs_extract=file.readlines()[1].strip()\n",
    "    to_parse='['+nonsyn_sfs_extract.replace(' ',',')+']'\n",
    "    nonsyn_sfs=ast.literal_eval(to_parse)[1:]"
   ]
  },
  {
   "cell_type": "markdown",
   "id": "85a8ed31-aa35-43ff-a190-b163de4352e6",
   "metadata": {},
   "source": [
    "## Load DaDi SFS"
   ]
  },
  {
   "cell_type": "code",
   "execution_count": 32,
   "id": "19547370-07d3-45ce-a587-375a450284c0",
   "metadata": {},
   "outputs": [],
   "source": [
    "#Load the filenames\n",
    "input_file_demography='/u/project/klohmuel/amzurita/Synonimous_Selection_Simulations/Dadi_Fits/DadiFits_OutputFiles/'+condition_dadioutput+'_TwoEpoch_Replicate'+replicate+'_two_epoch_demography.txt'\n",
    "input_file_dfe='/u/project/klohmuel/amzurita/Synonimous_Selection_Simulations/Dadi_Fits/DadiFits_OutputFiles/'+condition_dadioutput+'_TwoEpoch_Replicate'+replicate+'_inferred_DFE.txt'\n",
    "input_file_log='/u/project/klohmuel/amzurita/Synonimous_Selection_Simulations/Dadi_Fits/DadiFits_OutputFiles/'+condition_dadioutput+'_TwoEpoch_Replicate'+replicate+'_log.log'"
   ]
  },
  {
   "cell_type": "code",
   "execution_count": 33,
   "id": "a1aeab86-91b9-4be6-81bc-aa592f0999ed",
   "metadata": {},
   "outputs": [
    {
     "name": "stdout",
     "output_type": "stream",
     "text": [
      "/u/project/klohmuel/amzurita/Synonimous_Selection_Simulations/Dadi_Fits/DadiFits_OutputFiles/E3_TwoEpoch_Replicate10_two_epoch_demography.txt\n"
     ]
    }
   ],
   "source": [
    "print(input_file_demography)"
   ]
  },
  {
   "cell_type": "code",
   "execution_count": 34,
   "id": "7387b4f3-d7a1-470d-86d4-f91ea55c4389",
   "metadata": {},
   "outputs": [
    {
     "name": "stdout",
     "output_type": "stream",
     "text": [
      "[2453.32681323, 268.50305753]\n",
      "-119.24575749230671\n",
      "2.333334625714205\n",
      "[4.84564845e+03 2.05102145e+03 1.15731308e+03 7.34547517e+02\n",
      " 4.97219123e+02 3.50532554e+02 2.54133030e+02 1.88044567e+02\n",
      " 1.41321009e+02 1.07510244e+02 8.25954017e+01 6.39677153e+01\n",
      " 4.98752084e+01 3.91090455e+01 3.08164349e+01 2.43845585e+01\n",
      " 1.93661585e+01 1.54304801e+01 1.23301483e+01 9.87833813e+00\n",
      " 7.93275508e+00 6.38421651e+00 5.14840078e+00 4.15981198e+00\n",
      " 3.36731787e+00 2.73081910e+00 2.21874175e+00 1.80613502e+00\n",
      " 1.47321820e+00 1.20426380e+00 9.86734447e-01 8.10612330e-01\n",
      " 6.67875945e-01 5.52090066e-01 4.58083216e-01 3.81693097e-01\n",
      " 3.19565025e-01 2.68991879e-01 2.27786686e-01 1.94180938e-01\n",
      " 1.66743275e-01 1.44314322e-01 1.25954380e-01 1.10901361e-01\n",
      " 9.85369190e-02 8.83591281e-02 7.99604283e-02 7.30097922e-02\n",
      " 6.72382952e-02 6.24274264e-02 5.83996136e-02 5.50105376e-02\n",
      " 5.21428944e-02 4.97013308e-02 4.76083318e-02 4.58008790e-02\n",
      " 4.42277355e-02 4.28472398e-02 4.16255117e-02 4.05349943e-02\n",
      " 3.95532689e-02 3.86620906e-02 3.78466048e-02 3.70947104e-02\n",
      " 3.63965414e-02 3.57440464e-02 3.51306465e-02 3.45509574e-02\n",
      " 3.40005642e-02 3.34758380e-02 3.29737874e-02 3.24919385e-02\n",
      " 3.20282368e-02 3.15809684e-02 3.11486959e-02 3.07302068e-02\n",
      " 3.03244711e-02 2.99306082e-02 2.95478588e-02 2.91755632e-02\n",
      " 2.88131434e-02 2.84600885e-02 2.81159432e-02 2.77802986e-02\n",
      " 2.74527842e-02 2.71330620e-02 2.68208214e-02 2.65157755e-02\n",
      " 2.62176572e-02 2.59262172e-02 2.56412214e-02 2.53624492e-02\n",
      " 2.50896922e-02 2.48227526e-02 2.45614425e-02 2.43055831e-02\n",
      " 2.40550035e-02 2.38095406e-02 2.35690383e-02 0.00000000e+00]\n"
     ]
    }
   ],
   "source": [
    "#Parse the scaled demography\n",
    "with open(input_file_demography, 'r') as file:\n",
    "    for line in file:\n",
    "        if 'Maximum multinomial log composite likelihood: ' in line:\n",
    "            parsed_params=line.strip().strip('.').split(': ')[1]\n",
    "            print(parsed_params)\n",
    "            likelihood_model=float(parsed_params)\n",
    "        elif 'Scaled best-fit model spectrum: ' in line:\n",
    "            parsed_params=line.strip().strip('.').split(': ')[1]\n",
    "            parsed_params=parsed_params.strip('[--').strip('--]')\n",
    "            values=parsed_params.split()\n",
    "        #Get the theta value\n",
    "        elif 'Optimal value of theta_syn: ' in line:\n",
    "            parsed_params=line.strip().strip('.').split(': ')[1]\n",
    "            theta_syn=float(parsed_params)\n",
    "            print(theta_syn)\n",
    "        #Get the best fit parameteres\n",
    "        elif 'Best fit parameters: ' in line:\n",
    "            parsed_params=line.strip().strip('.').split(': ')[1]\n",
    "            parsed_params=parsed_params.strip('[').strip(']')\n",
    "            demog_params=[float(x.strip(',')) for x in parsed_params.split()]\n",
    "            print(demog_params)\n",
    "        \n",
    "        \n",
    "            \n",
    "dadi_sfs=[float(x) for x in values]\n",
    "dadi_sfs.append(0)\n",
    "dadi_sfs=np.array(dadi_sfs)\n",
    "print(dadi_sfs)"
   ]
  },
  {
   "cell_type": "code",
   "execution_count": 35,
   "id": "9cd8c656-356e-49af-831d-e96462b1e2a0",
   "metadata": {},
   "outputs": [
    {
     "name": "stdout",
     "output_type": "stream",
     "text": [
      "['2.77346615e-01', '3.99760142e+08']\n",
      "['2.77346615e-01', '3.99760142e+08']\n",
      "['2.77346604e-01', '3.99760142e+08']\n",
      "['2.77346614e-01', '3.99760142e+08']\n",
      "['2.77346613e-01', '3.99760142e+08']\n",
      "['2.77346616e-01', '3.99760142e+08']\n",
      "['2.77346616e-01', '3.99760142e+08']\n",
      "['2.77346615e-01', '3.99760142e+08']\n",
      "['2.77346642e-01', '3.99760142e+08']\n",
      "['2.77346615e-01', '3.99760142e+08']\n",
      "['2.77346619e-01', '3.99760142e+08']\n",
      "['2.77346612e-01', '3.99760142e+08']\n",
      "['2.77346555e-01', '3.99760142e+08']\n",
      "['2.77346615e-01', '3.99760142e+08']\n",
      "['2.77346590e-01', '3.99760142e+08']\n",
      "['2.77346621e-01', '3.99760142e+08']\n",
      "['3.30280411e-01', '9.43700331e+06']\n",
      "['3.3469463e-01', '7.2387240e+06']\n",
      "['3.58378009e-01', '2.02693328e+06']\n",
      "['3.58424878e-01', '2.02679362e+06']\n",
      "['3.72456319e-01', '1.02884231e+06']\n"
     ]
    }
   ],
   "source": [
    "#Parse the scaled DFE fit. \n",
    "#The first are sorted by likelihood.\n",
    "\n",
    "DFE_params_all=[]\n",
    "Non_Syn_SFS_all=[]\n",
    "poisson_ll_all=[]\n",
    "\n",
    "with open(input_file_dfe, 'r') as file:\n",
    "    for line in file:\n",
    "        if 'The population-scaled best-fit parameters: ' in line:\n",
    "            DFE_params_toparse=line.strip().strip('.').split(': ')[1]\n",
    "            DFE_params=DFE_params_toparse.strip('[').strip(']').split()\n",
    "            print(DFE_params)\n",
    "            DFE_params_all.append([float(x) for x in DFE_params])\n",
    "        elif 'The expected SFS is: ' in line:\n",
    "            parsed_params=line.strip().strip('.').split(': ')[1]\n",
    "            parsed_params=parsed_params.strip('[--').strip('--]')\n",
    "            values=parsed_params.split()\n",
    "            dadi_nonsyn_sfs=[float(x) for x in values]\n",
    "            dadi_nonsyn_sfs.append(0)\n",
    "            dadi_nonsyn_sfs=np.array(dadi_nonsyn_sfs)\n",
    "            Non_Syn_SFS_all.append(dadi_nonsyn_sfs)\n",
    "            #print(dadi_nonsyn_sfs)\n",
    "        elif 'The maximum poisson log composite likelihood is: ' in line:\n",
    "            parsed_params=line.strip().strip('.').split(': ')[1]\n",
    "            #print(parsed_params)\n",
    "            if parsed_params == '--':\n",
    "                parsed_params = -np.Infinity\n",
    "            poisson_ll_all.append(float(parsed_params))"
   ]
  },
  {
   "cell_type": "code",
   "execution_count": 36,
   "id": "d04ce203-a974-40c4-b864-b44b17d141a6",
   "metadata": {},
   "outputs": [
    {
     "name": "stdout",
     "output_type": "stream",
     "text": [
      "[1405.43655281  153.25963728]\n",
      "[1412.32312339  154.01368961]\n",
      "[1412.3015579   154.01143641]\n",
      "[1575.7988549   172.54087841]\n",
      "[1412.29928609  154.01117687]\n",
      "[1413.19024557  154.1248729 ]\n",
      "[762.72835974  82.65669271]\n",
      "[944.79935    103.23250187]\n",
      "[1412.30534992  154.01183944]\n",
      "[1413.521874    154.14091872]\n",
      "[1816.12963005  198.40895786]\n",
      "[1412.29986869  154.01124994]\n",
      "[1417.08957316  154.54363952]\n",
      "[1413.85019473  154.23157177]\n",
      "[964.09690832 104.79968021]\n",
      "[1412.29710274  154.01097199]\n",
      "[1410.99533683  153.86692284]\n",
      "[1263.18257013  137.68278051]\n",
      "[83.04433856  8.54677711]\n",
      "[1823.74730658  199.2000298 ]\n",
      "[2188.95299736  239.40052273]\n",
      "[2453.32681323  268.50305753]\n",
      "[1437.68926175  156.6005146 ]\n",
      "[1414.03839493  154.20505019]\n",
      "[1423.93967162  155.20127933]\n"
     ]
    }
   ],
   "source": [
    "best_fits_toparse=[]\n",
    "likelihoods_toparse=[]\n",
    "theta_toparse=[]\n",
    "\n",
    "with open(input_file_log, 'r') as file:\n",
    "    for line in file:\n",
    "        if 'INFO - Best fit parameters:' in line:\n",
    "            parsed_params=line.strip().strip('.').split(': ')[1]\n",
    "            print(parsed_params)\n",
    "            first_param='['+parsed_params.strip('[').strip().split()[0]\n",
    "            last_param=parsed_params.strip('[').split()[1]\n",
    "            parsed_params=first_param+','+last_param\n",
    "            #Fix the cases in which the braket is after a bunch of trailing spaces\n",
    "            if parsed_params[-1] != ']':\n",
    "                parsed_params=parsed_params+']'\n",
    "            best_fits_toparse.append(parsed_params)\n",
    "        #This is mutually exclusive with Best fit parameters\n",
    "        elif 'Forced parameters (nu,T):' in line:\n",
    "            parsed_params=line.strip().strip('.').split('(nu,T):')[1]\n",
    "            print(parsed_params)\n",
    "            parsed_params='['+parsed_params+']'\n",
    "            best_fits_toparse.append(parsed_params)\n",
    "        elif 'INFO - Maximum log composite likelihood: ' in line:\n",
    "            parsed_like=line.strip().strip('.').split(': ')[1]\n",
    "            likelihoods_toparse.append(parsed_like)\n",
    "        elif 'INFO - Optimal value of theta: ' in line:\n",
    "            parsed_theta=line.strip().strip('.').split(': ')[1]\n",
    "            theta_toparse.append(parsed_theta)\n",
    "        elif 'INFO - Beginning demographic inference for one-epoch demographic model.' in line:\n",
    "            #Stop reading information when the two-epoch inference ends and the one-epoch inference starts.\n",
    "            break"
   ]
  },
  {
   "cell_type": "code",
   "execution_count": 37,
   "id": "ecda844e-4560-430a-b0dc-834b123e96bc",
   "metadata": {},
   "outputs": [],
   "source": [
    "#Make into a Dataframe\n",
    "for_df=[]\n",
    "for parm,like in zip(best_fits_toparse, likelihoods_toparse):\n",
    "    values=ast.literal_eval(parm)\n",
    "    values.append(float(like))\n",
    "    for_df.append(values)\n",
    "    \n",
    "params_log_df=pd.DataFrame(np.array(for_df), columns=['nu','T','LogLike',])"
   ]
  },
  {
   "cell_type": "markdown",
   "id": "87c00c8b-06a4-42d0-9a32-a89ee2ea3636",
   "metadata": {},
   "source": [
    "## Plot the Synonymous SFS comparison"
   ]
  },
  {
   "cell_type": "code",
   "execution_count": 38,
   "id": "4d78cdc4-f1b7-422a-bf14-73f1fc92a5c5",
   "metadata": {},
   "outputs": [],
   "source": [
    "model_name=\"100% at s=-1e-3, Replicate \"+replicate"
   ]
  },
  {
   "cell_type": "code",
   "execution_count": 39,
   "id": "d4aaf588-24b3-431e-8573-15cb9b3d18e8",
   "metadata": {},
   "outputs": [
    {
     "data": {
      "text/plain": [
       "Text(0.5, 1.0, 'Synonymous SFS for 100% at s=-1e-3, Replicate 10\\nLogLik model: -119.24575749230671\\nSyn Theta: 2.33 Demography (nu, T): 2453.33, 268.50')"
      ]
     },
     "execution_count": 39,
     "metadata": {},
     "output_type": "execute_result"
    },
    {
     "data": {
      "image/png": "[encoded data removed]",
      "text/plain": [
       "<Figure size 720x360 with 1 Axes>"
      ]
     },
     "metadata": {
      "needs_background": "light"
     },
     "output_type": "display_data"
    }
   ],
   "source": [
    "fig=plt.figure(figsize=[10,5])\n",
    "ax=plt.gca()\n",
    "sbn.barplot(x=np.arange(1,101), y=syn_sfs, color='C0')\n",
    "sbn.barplot(x=np.arange(1,101), y=dadi_sfs, color='C1', alpha=0.7)\n",
    "\n",
    "plt.rcParams['font.size'] = '15'\n",
    "\n",
    "x_ticks=np.insert(np.arange(5,len(syn_sfs)+2,5),0,1)\n",
    "x_ticks_loc=x_ticks-[1]\n",
    "\n",
    "ax.set_xticks(x_ticks_loc)\n",
    "ax.set_xticklabels(x_ticks)\n",
    "ax.set_ylabel(\"Number of SNPs\")\n",
    "ax.set_xlabel(\"# of samples with SNP (frequency)\")\n",
    "\n",
    "#Create a custom legend\n",
    "custom_lines = [Line2D([0], [0], color='C0', lw=4),\n",
    "                Line2D([0], [0], color='C1', lw=4)]\n",
    "\n",
    "ax.legend(custom_lines, ['Simulated Data', 'FitDadi Prediction'])\n",
    "\n",
    "title_line1=\"Synonymous SFS for \"+model_name+\"\\n\"\n",
    "title_line2=\"LogLik model: \"+str(likelihood_model)+\"\\n\"\n",
    "title_line3=\"Syn Theta: {:.2f} \".format(theta_syn)\n",
    "try:\n",
    "    title_line4=\"Demography (nu, T): {0:.2f}, {1:.2f}\".format(demog_params[0], demog_params[1])\n",
    "except:\n",
    "    title_line4=\"Demography (one epoch): {:.2f}\".format(demog_params[0])\n",
    "title_line=title_line1+title_line2+title_line3+title_line4\n",
    "\n",
    "ax.set_title(title_line, fontsize=18)"
   ]
  },
  {
   "cell_type": "markdown",
   "id": "3e74f76a-e28b-4846-b746-e805a8d24c62",
   "metadata": {},
   "source": [
    "## Plot Non-Synonymous SFS comparison"
   ]
  },
  {
   "cell_type": "code",
   "execution_count": 40,
   "id": "ce8a1a68-51f9-4f40-b79d-61fe4e2444df",
   "metadata": {},
   "outputs": [
    {
     "data": {
      "text/plain": [
       "Text(0.5, 1.0, 'Non-Synonymous SFS for 100% at s=-1e-3, Replicate 10\\nGamma Parameters (shape,scale): 0.2773466 , 399760142.0 \\nPoisson LL: -40026.440')"
      ]
     },
     "execution_count": 40,
     "metadata": {},
     "output_type": "execute_result"
    },
    {
     "data": {
      "image/png": "[encoded data removed]",
      "text/plain": [
       "<Figure size 720x360 with 1 Axes>"
      ]
     },
     "metadata": {
      "needs_background": "light"
     },
     "output_type": "display_data"
    }
   ],
   "source": [
    "i=poisson_ll_all.index(max(poisson_ll_all))\n",
    "\n",
    "nonsyn_sfs=np.array(nonsyn_sfs)\n",
    "all_muts=nonsyn_sfs.sum()\n",
    "frequency_nonsyn_muts=nonsyn_sfs/all_muts\n",
    "\n",
    "dadi_nonsyn_sfs=Non_Syn_SFS_all[i]\n",
    "all_muts_dadi=dadi_nonsyn_sfs.sum()\n",
    "frequency_nonsyn_muts_dadi=dadi_nonsyn_sfs/all_muts_dadi\n",
    "\n",
    "fig=plt.figure(figsize=[10,5])\n",
    "ax=plt.gca()\n",
    "sbn.barplot(x=np.arange(1,101), y=nonsyn_sfs, color='C0')\n",
    "sbn.barplot(x=np.arange(1,101), y=dadi_nonsyn_sfs, color='C1', alpha=0.7)\n",
    "\n",
    "plt.rcParams['font.size'] = '15'\n",
    "\n",
    "x_ticks=np.insert(np.arange(5,len(frequency_nonsyn_muts)+2,5),0,1)\n",
    "x_ticks_loc=x_ticks-[1]\n",
    "\n",
    "ax.set_xticks(x_ticks_loc)\n",
    "ax.set_xticklabels(x_ticks)\n",
    "ax.set_ylabel(\"Number of SNPs\")\n",
    "ax.set_xlabel(\"# of samples with SNP (frequency)\")\n",
    "\n",
    "#Create a custom legend\n",
    "custom_lines = [Line2D([0], [0], color='C0', lw=4),\n",
    "                Line2D([0], [0], color='C1', lw=4)]\n",
    "\n",
    "ax.legend(custom_lines, ['Simulated Data', 'FitDadi Prediction'])\n",
    "\n",
    "title_line1=\"Non-Synonymous SFS for \"+model_name+\"\\n\"\n",
    "title_line2=\"Gamma Parameters (shape,scale): {0:.7f} , {1:.1f} \".format(DFE_params_all[i][0], DFE_params_all[i][1])+\"\\n\"\n",
    "title_line3=\"Poisson LL: {0:.3f}\".format(poisson_ll_all[i])\n",
    "title_line=title_line1+title_line2+title_line3\n",
    "\n",
    "ax.set_title(title_line, fontsize=18)\n"
   ]
  },
  {
   "cell_type": "code",
   "execution_count": null,
   "id": "032de08a-bcb7-4f56-acd9-414e742e3d25",
   "metadata": {},
   "outputs": [],
   "source": []
  }
 ],
 "metadata": {
  "kernelspec": {
   "display_name": "py3_analysis",
   "language": "python",
   "name": "py3_analysis"
  },
  "language_info": {
   "codemirror_mode": {
    "name": "ipython",
    "version": 3
   },
   "file_extension": ".py",
   "mimetype": "text/x-python",
   "name": "python",
   "nbconvert_exporter": "python",
   "pygments_lexer": "ipython3",
   "version": "3.9.7"
  }
 },
 "nbformat": 4,
 "nbformat_minor": 5
}
