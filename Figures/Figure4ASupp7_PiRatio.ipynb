{
 "cells": [
  {
   "cell_type": "markdown",
   "id": "7c22ab97-4631-4fb0-ab3c-dd503914109d",
   "metadata": {},
   "source": [
    "# Figure 3A: Recombination Results, pi/pi_0 ratio"
   ]
  },
  {
   "cell_type": "code",
   "execution_count": 1,
   "id": "af694f4d-440a-4f9c-8c6c-a336fe057bbd",
   "metadata": {},
   "outputs": [],
   "source": [
    "import sys\n",
    "import os\n",
    "import logging\n",
    "import time\n",
    "import argparse\n",
    "import warnings\n",
    "\n",
    "import numpy as np\n",
    "import dadi\n",
    "import dadi.DFE as DFE\n",
    "import Selection"
   ]
  },
  {
   "cell_type": "code",
   "execution_count": 2,
   "id": "645c3c37-7b3b-40fc-bfb8-ec9d664ebf7f",
   "metadata": {},
   "outputs": [],
   "source": [
    "import pandas as pd\n",
    "import matplotlib.pyplot as plt\n",
    "import seaborn as sbn\n",
    "import scipy.stats as stats \n",
    "from matplotlib.lines import Line2D"
   ]
  },
  {
   "cell_type": "markdown",
   "id": "0a3111a2-c90f-4f83-99ed-7169cbc3b312",
   "metadata": {},
   "source": [
    "# General Figure inputs"
   ]
  },
  {
   "cell_type": "code",
   "execution_count": 3,
   "id": "4c42876d-69d3-4c5d-afa6-6d8446df816d",
   "metadata": {},
   "outputs": [],
   "source": [
    "title_conditions={'SLiM_True_DFE':'True model', 'Neutral':'s=0, r=1e-8', 'E5':'s=1e-05, r=1e-8', 'E4':'s=1e-4, r=1e-8',\n",
    "                  'E3': 's=1e-3, r=1e-8', 'E5_Partial':'s=1e-5,r=1e-8' ,'E3_Partial':'s=1e-3, r=1e-8', \n",
    "                  'E4_Partial':'s=1e-4, r=1e-8', 'Zero_Recom7':'s=0, r=1e-7', 'Zero_Recom6':'s=0, r=1e-6',\n",
    "                 'E3_Partial_R7':'s=1e-3, r=1e-7','E3_Partial_R6':'s=1e-3, r=1e-6', 'E4_Partial_R6':'s=1e-4, r=1e-6','E4_Partial_R7':'s=1e-4, r=1e-7',\n",
    "                 'E5_Partial_R7':'s=1e-5, r=1e-7','E5_Partial_R6':'s=1e-5, r=1e-6', 'E3_Recom7':'s=1e-3, r=1e-7', 'E3_Recom6':'s=1e-3, r=1e-6', \n",
    "                  'E4_Recom6':'s=1e-4, r=1e-6', 'E4_Recom7':'s=1e-4, r=1e-7', 'E5_Recom7':'s=1e-5, r=1e-7', 'E5_Recom6':'s=1e-5, r=1e-6'}"
   ]
  },
  {
   "cell_type": "code",
   "execution_count": 4,
   "id": "71677a61-bb07-4e00-85b4-02e6a9505a29",
   "metadata": {},
   "outputs": [],
   "source": [
    "color_conditions={'SLiM_True_DFE':'#99b3ff', 'Neutral':'#3366ff', 'Zero_Recom7':'#668CFF', 'Zero_Recom6':'#99B3FF', \n",
    "                  'E5':'#267326', 'E5_Recom7':'#5C965C','E5_Recom6':'#93B993',\n",
    "                  'E4':'#9bc238','E4_Recom7':'#B4D16A','E4_Recom6':'#CDE19B',\n",
    "                  'E3': '#7D2FB9', 'E3_Recom7':'#9E63CB','E3_Recom6':'#BE97DC',\n",
    "                  'E5_Partial':'#cc0000' ,'E5_Partial_R7':'#D94040','E5_Partial_R6':'#E68080',\n",
    "                  'E3_Partial':'#E6BE00','E3_Partial_R7':'#EFD660','E3_Partial_R6':'#F6E79F', \n",
    "                  'E4_Partial':'#ff6600', 'E4_Partial_R7':'#FF8C40','E4_Partial_R6':'#FFB380'}"
   ]
  },
  {
   "cell_type": "code",
   "execution_count": 5,
   "id": "54c10624-eb58-412b-b284-cc0640fb1587",
   "metadata": {},
   "outputs": [],
   "source": [
    "model_tips={'OneEpoch':'o', 'TwoEpoch':'X'}"
   ]
  },
  {
   "cell_type": "markdown",
   "id": "b09aab8d-6896-4e20-ad8e-fde8ef4abb46",
   "metadata": {},
   "source": [
    "# Panel A: Pi/Pi_0"
   ]
  },
  {
   "cell_type": "markdown",
   "id": "63f0f625-e89b-4c97-bab1-0e971acfde80",
   "metadata": {},
   "source": [
    "## Compute pi_0"
   ]
  },
  {
   "cell_type": "code",
   "execution_count": 6,
   "id": "2fcc8868-af21-45fb-91e4-e74822abf32a",
   "metadata": {},
   "outputs": [],
   "source": [
    "mu=1.5E-8#Mutation rate\n",
    "N=10000\n",
    "L=32190668.8\n",
    "mu_length=mu*L\n",
    "mu_nonsyn=0.6979*mu_length\n",
    "pi_0=4*N*mu_nonsyn"
   ]
  },
  {
   "cell_type": "code",
   "execution_count": 7,
   "id": "1dab5d19-8165-4291-999f-b26cef4f19f6",
   "metadata": {},
   "outputs": [
    {
     "name": "stdout",
     "output_type": "stream",
     "text": [
      "13479.520653311998\n"
     ]
    }
   ],
   "source": [
    "print(pi_0)"
   ]
  },
  {
   "cell_type": "markdown",
   "id": "386dd1ac-ab0b-4c6f-b55b-cbde54fa3c3d",
   "metadata": {},
   "source": [
    "## Compute pi for each condition"
   ]
  },
  {
   "cell_type": "code",
   "execution_count": 8,
   "id": "2b0d22ec-d35d-467c-b862-a3f0a419d907",
   "metadata": {},
   "outputs": [],
   "source": [
    "conditions_to_test=['0', 'E3', 'E4', 'E5', 'PartialE3', 'PartialE4', 'PartialE5']"
   ]
  },
  {
   "cell_type": "code",
   "execution_count": 9,
   "id": "c2b2f489-9748-47e4-b40b-951c23337557",
   "metadata": {},
   "outputs": [],
   "source": [
    "pi_ratios=[]\n",
    "conditions=[]\n",
    "empirical_pis=[]\n",
    "\n",
    "for condition in conditions_to_test:\n",
    "    for i in range(20):\n",
    "        nonsyn_input_sfs = '/u/project/klohmuel/amzurita/Synonimous_Selection_Simulations/Dadi_Fits/Summed_SFS/NonSyn_SFS_DadiInput_'+condition+'_Replicate'+str(i+1)+'.txt'\n",
    "        nonsyn_data = dadi.Spectrum.from_file(nonsyn_input_sfs)\n",
    "        empirical_pi=nonsyn_data.pi()\n",
    "        ratio=empirical_pi/pi_0\n",
    "        pi_ratios.append(ratio)\n",
    "        conditions.append(condition)\n",
    "        empirical_pis.append(empirical_pi)"
   ]
  },
  {
   "cell_type": "code",
   "execution_count": 10,
   "id": "b1852bd6-8212-489d-a385-2d8c7e54f027",
   "metadata": {},
   "outputs": [],
   "source": [
    "piratio_df=pd.DataFrame.from_dict({'condition':conditions, 'pi_ratio':pi_ratios})"
   ]
  },
  {
   "cell_type": "markdown",
   "id": "bf18f1c6-b3f8-4267-8210-34b7d460a436",
   "metadata": {},
   "source": [
    "## Make figure"
   ]
  },
  {
   "cell_type": "code",
   "execution_count": 11,
   "id": "a4fbde2d-fcc4-4d42-ab98-b3781158fe3b",
   "metadata": {},
   "outputs": [],
   "source": [
    "#Replace the condition values with the correct label\n",
    "piratio_df.loc[piratio_df['condition'] == '0', 'condition'] = 'Neutral'\n",
    "piratio_df.loc[piratio_df['condition'] == 'PartialE3', 'condition'] = 'E3_Partial'\n",
    "piratio_df.loc[piratio_df['condition'] == 'PartialE4', 'condition'] = 'E4_Partial'\n",
    "piratio_df.loc[piratio_df['condition'] == 'PartialE5', 'condition'] = 'E5_Partial'\n",
    "\n",
    "#Sort the dataframe \n",
    "order_plotting=['Neutral', 'E5', 'E4', 'E3', 'E5_Partial', 'E4_Partial', 'E3_Partial']  # Your custom sorting order\n",
    "sorting_dict = {val: idx for idx, val in enumerate(order_plotting)}\n",
    "piratio_df = piratio_df.sort_values('condition', key=lambda x: x.map(sorting_dict))"
   ]
  },
  {
   "cell_type": "code",
   "execution_count": 12,
   "id": "27f903d9-65e4-4fef-9616-bc62f07046be",
   "metadata": {},
   "outputs": [],
   "source": [
    "title_conditions={'SLiM_True_DFE':'True model', 'Neutral':'s=0', 'E5':'s=1e-5', 'E4':'s=1e-4',\n",
    "                  'E3': 's=1e-3', 'E5_Partial':'22% at s=1e-05' ,'E3_Partial':'22% at s=1e-03', \n",
    "                  'E4_Partial':'22% at s=1e-04'}"
   ]
  },
  {
   "cell_type": "code",
   "execution_count": 13,
   "id": "694fae93-3a9e-431c-b755-ec764a828df7",
   "metadata": {},
   "outputs": [
    {
     "data": {
      "image/png": "[encoded data removed]",
      "text/plain": [
       "<Figure size 576x576 with 1 Axes>"
      ]
     },
     "metadata": {
      "needs_background": "light"
     },
     "output_type": "display_data"
    }
   ],
   "source": [
    "sbn.set(font_scale=1.5, style='whitegrid')\n",
    "plt.figure(figsize=[8,8])\n",
    "ax=sbn.boxplot(data=piratio_df, x=\"condition\", y=\"pi_ratio\", hue=\"condition\", palette=color_conditions, width=0.7, dodge=False)\n",
    "plt.legend(bbox_to_anchor=(1.05, 1), loc='upper left')\n",
    "plt.ylim(0.35, 0.37)\n",
    "plt.title(\"Non-Synonymous pi/pi_o ratio\")\n",
    "\n",
    "ax.set_xticklabels([title_conditions[label] for label in order_plotting])\n",
    "plt.xticks(rotation=85)\n",
    "plt.xlabel(\"\")\n",
    "ax.get_legend().remove()\n",
    "\n",
    "plt.savefig(\"/u/project/klohmuel/amzurita/Synonimous_Selection_Simulations/FigurePlots_Revision/Fig3_A.jpg\", bbox_inches='tight', dpi=300)"
   ]
  },
  {
   "cell_type": "markdown",
   "id": "e8752129-eddd-423d-9d78-c75218a5e853",
   "metadata": {},
   "source": [
    "# Supplementary Figure 7"
   ]
  },
  {
   "cell_type": "code",
   "execution_count": 14,
   "id": "81ef0999-7b8b-4a8d-9d95-7a169ba9c53d",
   "metadata": {},
   "outputs": [],
   "source": [
    "mu=1.5E-8#Mutation rate\n",
    "N=10000\n",
    "L=9728061\n",
    "mu_length=mu*L\n",
    "#mu_syn=0.3020*mu_length\n",
    "pi_0=4*N*mu_length"
   ]
  },
  {
   "cell_type": "code",
   "execution_count": 15,
   "id": "ca9d3c9d-0e70-4a27-857b-6be60b38fec6",
   "metadata": {},
   "outputs": [
    {
     "name": "stdout",
     "output_type": "stream",
     "text": [
      "5836.8366\n"
     ]
    }
   ],
   "source": [
    "print(pi_0)"
   ]
  },
  {
   "cell_type": "markdown",
   "id": "0b37f297-e7c8-4825-ad73-19c620410dcc",
   "metadata": {},
   "source": [
    "## Compute pi for each condition"
   ]
  },
  {
   "cell_type": "code",
   "execution_count": 19,
   "id": "fef6446c-8b05-4f9a-9804-297882227564",
   "metadata": {},
   "outputs": [],
   "source": [
    "conditions_to_test=['0', 'E3', 'E4', 'E5', 'PartialE3', 'PartialE4', 'PartialE5']"
   ]
  },
  {
   "cell_type": "code",
   "execution_count": 17,
   "id": "c4ce9313-e88d-46f3-b441-b1a81e2a5349",
   "metadata": {},
   "outputs": [],
   "source": [
    "pi_ratios=[]\n",
    "conditions=[]\n",
    "empirical_pis=[]\n",
    "\n",
    "for condition in conditions_to_test:\n",
    "    for i in range(20):\n",
    "        syn_input_sfs = '/u/project/klohmuel/amzurita/Synonimous_Selection_Simulations/Dadi_Fits/Summed_SFS/Syn_SFS_DadiInput_'+condition+'_Replicate'+str(i+1)+'.txt'\n",
    "        syn_data = dadi.Spectrum.from_file(syn_input_sfs)\n",
    "        empirical_pi=syn_data.pi()\n",
    "        ratio=empirical_pi/pi_0\n",
    "        pi_ratios.append(ratio)\n",
    "        conditions.append(condition)\n",
    "        empirical_pis.append(empirical_pi)"
   ]
  },
  {
   "cell_type": "code",
   "execution_count": 18,
   "id": "4272c9bb-5ae2-415c-a651-ee4034f9ea06",
   "metadata": {},
   "outputs": [],
   "source": [
    "piratio_df=pd.DataFrame.from_dict({'condition':conditions, 'pi_ratio':pi_ratios})"
   ]
  },
  {
   "cell_type": "markdown",
   "id": "a1fbd60f-e55c-42f6-b848-43eb7cd7933a",
   "metadata": {},
   "source": [
    "## Make Figure"
   ]
  },
  {
   "cell_type": "code",
   "execution_count": 20,
   "id": "92db0e62-6fd6-4337-89f0-71bccf0e76bc",
   "metadata": {},
   "outputs": [],
   "source": [
    "#Replace the condition values with the correct label\n",
    "piratio_df.loc[piratio_df['condition'] == '0', 'condition'] = 'Neutral'\n",
    "piratio_df.loc[piratio_df['condition'] == 'PartialE3', 'condition'] = 'E3_Partial'\n",
    "piratio_df.loc[piratio_df['condition'] == 'PartialE4', 'condition'] = 'E4_Partial'\n",
    "piratio_df.loc[piratio_df['condition'] == 'PartialE5', 'condition'] = 'E5_Partial'\n",
    "\n",
    "#Sort the dataframe \n",
    "order_plotting=['Neutral', 'E5', 'E4', 'E3', 'E5_Partial', 'E4_Partial', 'E3_Partial']  # Your custom sorting order\n",
    "sorting_dict = {val: idx for idx, val in enumerate(order_plotting)}\n",
    "piratio_df = piratio_df.sort_values('condition', key=lambda x: x.map(sorting_dict))"
   ]
  },
  {
   "cell_type": "code",
   "execution_count": 21,
   "id": "a5a7a4fe-135a-4fe9-93a6-b08c95f24b72",
   "metadata": {},
   "outputs": [],
   "source": [
    "title_conditions={'SLiM_True_DFE':'True model', 'Neutral':'s=0', 'E5':'s=1e-5', 'E4':'s=1e-4',\n",
    "                  'E3': 's=1e-3', 'E5_Partial':'22% at s=1e-05' ,'E3_Partial':'22% at s=1e-03', \n",
    "                  'E4_Partial':'22% at s=1e-04'}"
   ]
  },
  {
   "cell_type": "code",
   "execution_count": 23,
   "id": "bc52666f-b73a-436f-b99a-0d8a494c0bda",
   "metadata": {},
   "outputs": [
    {
     "data": {
      "image/png": "[encoded data removed]",
      "text/plain": [
       "<Figure size 576x576 with 1 Axes>"
      ]
     },
     "metadata": {},
     "output_type": "display_data"
    }
   ],
   "source": [
    "sbn.set(font_scale=1.5, style='whitegrid')\n",
    "plt.figure(figsize=[8,8])\n",
    "ax=sbn.boxplot(data=piratio_df, x=\"condition\", y=\"pi_ratio\", hue=\"condition\", palette=color_conditions, width=0.7, dodge=False)\n",
    "plt.legend(bbox_to_anchor=(1.05, 1), loc='upper left')\n",
    "#plt.ylim(0.35, 0.37)\n",
    "plt.title(\"Synonymous pi/pi_o ratio\")\n",
    "\n",
    "ax.set_xticklabels([title_conditions[label] for label in order_plotting])\n",
    "plt.xticks(rotation=85)\n",
    "plt.xlabel(\"\")\n",
    "ax.get_legend().remove()\n",
    "\n",
    "plt.savefig(\"/u/project/klohmuel/amzurita/Synonimous_Selection_Simulations/FigurePlots_Revision/SuppFig7.jpg\", bbox_inches='tight', dpi=300)"
   ]
  },
  {
   "cell_type": "code",
   "execution_count": null,
   "id": "39f2e88b-1cf0-4ff8-b0ed-a22582621c25",
   "metadata": {},
   "outputs": [],
   "source": []
  }
 ],
 "metadata": {
  "kernelspec": {
   "display_name": "dadienv",
   "language": "python",
   "name": "dadienv"
  },
  "language_info": {
   "codemirror_mode": {
    "name": "ipython",
    "version": 3
   },
   "file_extension": ".py",
   "mimetype": "text/x-python",
   "name": "python",
   "nbconvert_exporter": "python",
   "pygments_lexer": "ipython3",
   "version": "3.10.5"
  }
 },
 "nbformat": 4,
 "nbformat_minor": 5
}
